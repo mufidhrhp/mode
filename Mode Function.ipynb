{
 "cells": [
  {
   "cell_type": "code",
   "execution_count": 122,
   "metadata": {},
   "outputs": [],
   "source": [
    "import math\n",
    "import numpy as np"
   ]
  },
  {
   "cell_type": "code",
   "execution_count": 156,
   "metadata": {},
   "outputs": [],
   "source": [
    "def modus (xlist):\n",
    "    number=[]\n",
    "    frek=[]\n",
    "    maks = 0\n",
    "    indeks = []\n",
    "    hasil = []\n",
    "\n",
    "    for i in list(set(xlist)):\n",
    "        number.append(i)\n",
    "        frek.append(xlist.count(i))\n",
    "\n",
    "    for i in frek:\n",
    "        if i >maks:\n",
    "            maks = i\n",
    "\n",
    "    for i in range(0,len(frek)):\n",
    "        if frek[i] == maks:\n",
    "            indeks.append(i)\n",
    "\n",
    "    for i in indeks:\n",
    "        hasil.append(number[i])\n",
    "    \n",
    "    print(f'The modes are{hasil}')"
   ]
  },
  {
   "cell_type": "markdown",
   "metadata": {},
   "source": [
    "## __Function Test__"
   ]
  },
  {
   "cell_type": "code",
   "execution_count": 157,
   "metadata": {
    "scrolled": true
   },
   "outputs": [
    {
     "data": {
      "text/plain": [
       "[2, 3, 4, 3, 2, 1, 4, 1, 3, 4]"
      ]
     },
     "execution_count": 157,
     "metadata": {},
     "output_type": "execute_result"
    }
   ],
   "source": [
    "a = list(np.random.randint(1,5,10))\n",
    "a"
   ]
  },
  {
   "cell_type": "code",
   "execution_count": 158,
   "metadata": {},
   "outputs": [
    {
     "data": {
      "text/plain": [
       "[1, 2, 3, 7, 8, 9, 4, 5, 6, 1, 2, 3, 8, 9]"
      ]
     },
     "execution_count": 158,
     "metadata": {},
     "output_type": "execute_result"
    }
   ],
   "source": [
    "b=[1,2,3,7,8,9,4,5,6,1,2,3,8,9]\n",
    "b"
   ]
  },
  {
   "cell_type": "code",
   "execution_count": 159,
   "metadata": {
    "scrolled": true
   },
   "outputs": [
    {
     "name": "stdout",
     "output_type": "stream",
     "text": [
      "The modes are[3, 4]\n"
     ]
    }
   ],
   "source": [
    "modus(a)"
   ]
  },
  {
   "cell_type": "code",
   "execution_count": 161,
   "metadata": {},
   "outputs": [
    {
     "name": "stdout",
     "output_type": "stream",
     "text": [
      "The modes are[1, 2, 3, 8, 9]\n"
     ]
    }
   ],
   "source": [
    "modus(b)"
   ]
  }
 ],
 "metadata": {
  "kernelspec": {
   "display_name": "Python 3",
   "language": "python",
   "name": "python3"
  },
  "language_info": {
   "codemirror_mode": {
    "name": "ipython",
    "version": 3
   },
   "file_extension": ".py",
   "mimetype": "text/x-python",
   "name": "python",
   "nbconvert_exporter": "python",
   "pygments_lexer": "ipython3",
   "version": "3.7.6"
  }
 },
 "nbformat": 4,
 "nbformat_minor": 4
}
